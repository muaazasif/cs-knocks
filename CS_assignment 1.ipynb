{
 "cells": [
  {
   "cell_type": "markdown",
   "metadata": {},
   "source": [
    "# COURSE: “Python programming for beginners”\n"
   ]
  },
  {
   "cell_type": "markdown",
   "metadata": {},
   "source": [
    "# Question 1: Given a range of first 50 numbers, Iterate from start number to the end number and print the product of the current number and previous number."
   ]
  },
  {
   "cell_type": "code",
   "execution_count": 1,
   "metadata": {},
   "outputs": [
    {
     "name": "stdout",
     "output_type": "stream",
     "text": [
      "Printing current and previous number sum in a given range(50)\n",
      "\n",
      "Current Number 0 Previous Number  0  Sum:  0\n",
      "Current Number 1 Previous Number  0  Sum:  1\n",
      "Current Number 2 Previous Number  1  Sum:  3\n",
      "Current Number 3 Previous Number  2  Sum:  5\n",
      "Current Number 4 Previous Number  3  Sum:  7\n",
      "Current Number 5 Previous Number  4  Sum:  9\n",
      "Current Number 6 Previous Number  5  Sum:  11\n",
      "Current Number 7 Previous Number  6  Sum:  13\n",
      "Current Number 8 Previous Number  7  Sum:  15\n",
      "Current Number 9 Previous Number  8  Sum:  17\n",
      "Current Number 10 Previous Number  9  Sum:  19\n",
      "Current Number 11 Previous Number  10  Sum:  21\n",
      "Current Number 12 Previous Number  11  Sum:  23\n",
      "Current Number 13 Previous Number  12  Sum:  25\n",
      "Current Number 14 Previous Number  13  Sum:  27\n",
      "Current Number 15 Previous Number  14  Sum:  29\n",
      "Current Number 16 Previous Number  15  Sum:  31\n",
      "Current Number 17 Previous Number  16  Sum:  33\n",
      "Current Number 18 Previous Number  17  Sum:  35\n",
      "Current Number 19 Previous Number  18  Sum:  37\n",
      "Current Number 20 Previous Number  19  Sum:  39\n",
      "Current Number 21 Previous Number  20  Sum:  41\n",
      "Current Number 22 Previous Number  21  Sum:  43\n",
      "Current Number 23 Previous Number  22  Sum:  45\n",
      "Current Number 24 Previous Number  23  Sum:  47\n",
      "Current Number 25 Previous Number  24  Sum:  49\n",
      "Current Number 26 Previous Number  25  Sum:  51\n",
      "Current Number 27 Previous Number  26  Sum:  53\n",
      "Current Number 28 Previous Number  27  Sum:  55\n",
      "Current Number 29 Previous Number  28  Sum:  57\n",
      "Current Number 30 Previous Number  29  Sum:  59\n",
      "Current Number 31 Previous Number  30  Sum:  61\n",
      "Current Number 32 Previous Number  31  Sum:  63\n",
      "Current Number 33 Previous Number  32  Sum:  65\n",
      "Current Number 34 Previous Number  33  Sum:  67\n",
      "Current Number 35 Previous Number  34  Sum:  69\n",
      "Current Number 36 Previous Number  35  Sum:  71\n",
      "Current Number 37 Previous Number  36  Sum:  73\n",
      "Current Number 38 Previous Number  37  Sum:  75\n",
      "Current Number 39 Previous Number  38  Sum:  77\n",
      "Current Number 40 Previous Number  39  Sum:  79\n",
      "Current Number 41 Previous Number  40  Sum:  81\n",
      "Current Number 42 Previous Number  41  Sum:  83\n",
      "Current Number 43 Previous Number  42  Sum:  85\n",
      "Current Number 44 Previous Number  43  Sum:  87\n",
      "Current Number 45 Previous Number  44  Sum:  89\n",
      "Current Number 46 Previous Number  45  Sum:  91\n",
      "Current Number 47 Previous Number  46  Sum:  93\n",
      "Current Number 48 Previous Number  47  Sum:  95\n",
      "Current Number 49 Previous Number  48  Sum:  97\n",
      "Current Number 50 Previous Number  49  Sum:  99\n"
     ]
    }
   ],
   "source": [
    "def sum(num):\n",
    "    previousNum = 0\n",
    "    for i in range(num):\n",
    "        sum = previousNum + i\n",
    "        print(\"Current Number\", i, \"Previous Number \", previousNum,\" Sum: \", sum)\n",
    "        previousNum = i\n",
    "\n",
    "print(\"Printing current and previous number sum in a given range(50)\")\n",
    "print(\"\")\n",
    "sum(51)"
   ]
  },
  {
   "cell_type": "markdown",
   "metadata": {},
   "source": [
    "# Question 2: Given a string, display only those characters which are present at odd index number."
   ]
  },
  {
   "cell_type": "code",
   "execution_count": 2,
   "metadata": {},
   "outputs": [
    {
     "name": "stdout",
     "output_type": "stream",
     "text": [
      "Orginal String is  CSKNOCKS\n",
      "\n",
      "Printing only odd index chars\n",
      "\n",
      "index[ 1 ] S\n",
      "index[ 3 ] N\n",
      "index[ 5 ] C\n",
      "index[ 7 ] S\n"
     ]
    }
   ],
   "source": [
    "def printOddIndexChar(str):\n",
    " for i in range(1, len(str), 2):\n",
    "    print(\"index[\",i,\"]\", str[i] )\n",
    "\n",
    "Str = \"CSKNOCKS\" \n",
    "print(\"Orginal String is \", Str)\n",
    "print(\"\")\n",
    "print(\"Printing only odd index chars\")\n",
    "print(\"\")\n",
    "printOddIndexChar(Str)"
   ]
  },
  {
   "cell_type": "markdown",
   "metadata": {},
   "source": [
    "# Q NO 3:In the given dictionary Data = { \"name\": \"Henry\",\"age\":20, \"salary\": 45000, \"city\": \"Netherlands\"} \n",
    "# Rename key city to home town in the following dictionary. Change salary to 8500 and also add “Qualification”: “Intermediate”"
   ]
  },
  {
   "cell_type": "code",
   "execution_count": 3,
   "metadata": {},
   "outputs": [
    {
     "name": "stdout",
     "output_type": "stream",
     "text": [
      "{'name': 'Henry', 'age': 20, 'salary': 8500, 'home town': 'Netherlands', 'Qualification': 'Intermediate'}\n"
     ]
    }
   ],
   "source": [
    "Data = { \"name\": \"Henry\",\"age\":20, \"salary\": 45000, \"city\": \"Netherlands\"}\n",
    "old_key=\"city\"\n",
    "new=\"home town\"\n",
    "Data[new] = Data.pop(old_key)\n",
    "Data[\"salary\"]=8500\n",
    "Data[\"Qualification\"]=\"Intermediate\"\n",
    "\n",
    "print(Data)\n"
   ]
  },
  {
   "cell_type": "markdown",
   "metadata": {},
   "source": [
    "# Question no 4:Write a Python program to remove an empty tuple(s) from a list of tuples \n",
    "# Sample data: [(), (), ('',), ('a', 'b'), ('a', 'b', 'c'), ('d')]\n",
    "# Expected output: [('',), ('a', 'b'), ('a', 'b', 'c'), 'd']\n"
   ]
  },
  {
   "cell_type": "code",
   "execution_count": 4,
   "metadata": {},
   "outputs": [
    {
     "name": "stdout",
     "output_type": "stream",
     "text": [
      "Sample Data :      [(), (), ('',), ('a', 'b'), ('a', 'b', 'c'), 'd']\n",
      "Expected output :  [('',), ('a', 'b'), ('a', 'b', 'c'), 'd']\n"
     ]
    }
   ],
   "source": [
    "L = [(), (), ('',), ('a', 'b'), ('a', 'b', 'c'), ('d')]\n",
    "print(\"Sample Data :     \", L)\n",
    "L = [t for t in L if t]\n",
    "print(\"Expected output : \", L)"
   ]
  },
  {
   "cell_type": "markdown",
   "metadata": {},
   "source": [
    "# Question no 5: Take input from user ask his name, how many hours he/she plays in his/her mobile from 1-7 and calculate minutes and seconds.\n"
   ]
  },
  {
   "cell_type": "markdown",
   "metadata": {},
   "source": [
    "# Output be like:\n",
    "# What's your name? Francis\n",
    "# From 1 to 7, how many hours do you play in your mobile? 3\n",
    "# Impressive, Francis! You spent 180 minutes or 10800 seconds on your mobile!"
   ]
  },
  {
   "cell_type": "code",
   "execution_count": 10,
   "metadata": {},
   "outputs": [
    {
     "name": "stdout",
     "output_type": "stream",
     "text": [
      "What is your name? : asif\n",
      "how many hours he/she plays in his/her mobile from 1-7 : 4\n",
      "From 1 to 7, how many hours do you play in your mobile ?  4\n",
      "Impressive, asif !  You spent  240  minutes or  14400  seconds on your mobile!\n"
     ]
    }
   ],
   "source": [
    "user = input('What is your name? : ')\n",
    "play = int(input(\"how many hours he/she plays in his/her mobile from 1-7 : \"))\n",
    "print(\"From 1 to 7, how many hours do you play in your mobile ? \", play)\n",
    "print(\"Impressive,\", user,\"!\",\" You spent \" , play*int(60) , \" minutes or \", play*int(3600),\" seconds on your mobile!\")"
   ]
  },
  {
   "cell_type": "markdown",
   "metadata": {},
   "source": []
  }
 ],
 "metadata": {
  "kernelspec": {
   "display_name": "Python 3",
   "language": "python",
   "name": "python3"
  },
  "language_info": {
   "codemirror_mode": {
    "name": "ipython",
    "version": 3
   },
   "file_extension": ".py",
   "mimetype": "text/x-python",
   "name": "python",
   "nbconvert_exporter": "python",
   "pygments_lexer": "ipython3",
   "version": "3.7.4"
  }
 },
 "nbformat": 4,
 "nbformat_minor": 2
}
